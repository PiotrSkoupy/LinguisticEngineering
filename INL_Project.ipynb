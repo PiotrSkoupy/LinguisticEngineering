{
  "nbformat": 4,
  "nbformat_minor": 0,
  "metadata": {
    "colab": {
      "name": "INL_Project.ipynb",
      "provenance": [],
      "collapsed_sections": []
    },
    "kernelspec": {
      "name": "python3",
      "display_name": "Python 3"
    },
    "language_info": {
      "name": "python"
    }
  },
  "cells": [
    {
      "cell_type": "markdown",
      "source": [
        "#Task 6: Automatic cyberbullying detection"
      ],
      "metadata": {
        "id": "Fdg9nLihNL9Z"
      }
    },
    {
      "cell_type": "markdown",
      "source": [
        "##Task 6-1: Harmful vs non-harmful"
      ],
      "metadata": {
        "id": "voXFnIy_NRJW"
      }
    },
    {
      "cell_type": "markdown",
      "source": [
        "###Getting data and building models"
      ],
      "metadata": {
        "id": "f0VHmEarg7Mt"
      }
    },
    {
      "cell_type": "code",
      "execution_count": 121,
      "metadata": {
        "id": "G6PQNyHgNHfh"
      },
      "outputs": [],
      "source": [
        "%%capture\n",
        "!wget http://2019.poleval.pl/task6/task_6-1.zip -O  task_6-1.zip\n",
        "!unzip task_6-1\n",
        "%rm task_6-1.zip"
      ]
    },
    {
      "cell_type": "code",
      "source": [
        "#Get stopwords\n",
        "%%capture\n",
        "!wget https://raw.githubusercontent.com/bieli/stopwords/master/polish.stopwords.txt"
      ],
      "metadata": {
        "id": "rQjSsfKO_i8s"
      },
      "execution_count": 122,
      "outputs": []
    },
    {
      "cell_type": "code",
      "source": [
        "import re\n",
        "import pandas as pd\n",
        "import numpy as np\n",
        "from sklearn.preprocessing import LabelEncoder\n",
        "from keras.preprocessing.text import Tokenizer\n",
        "from keras.preprocessing.sequence import pad_sequences\n",
        "from keras.models import Sequential\n",
        "from keras.layers import LSTM, Dense\n",
        "from keras.layers import Embedding\n",
        "from keras.layers import SpatialDropout1D\n",
        "from tensorflow.keras.utils import to_categorical\n",
        "from keras import layers\n",
        "from tensorflow.keras.optimizers import RMSprop,Adam\n",
        "from keras.preprocessing.text import Tokenizer\n",
        "from keras.preprocessing.sequence import pad_sequences\n",
        "from keras import regularizers\n",
        "from keras import backend as K\n",
        "from keras.callbacks import ModelCheckpoint"
      ],
      "metadata": {
        "id": "4uZoy-nyOwQN"
      },
      "execution_count": 123,
      "outputs": []
    },
    {
      "cell_type": "code",
      "source": [
        "tags=[]\n",
        "tweets=[]\n",
        "with open('/content/training_set_clean_only_tags.txt','r') as f:        \n",
        "     for row in f.readlines():\n",
        "       tags.append(row.rstrip(\"\\n\"))\n",
        "with open('/content/training_set_clean_only_text.txt','r') as f:        \n",
        "     for row in f.readlines():\n",
        "       tweets.append(row.rstrip(\"\\n\"))\n",
        "train_df = pd.DataFrame({'tweet':tweets, 'tag':tags})"
      ],
      "metadata": {
        "id": "0v1IvEp2O4qQ"
      },
      "execution_count": 124,
      "outputs": []
    },
    {
      "cell_type": "code",
      "source": [
        "stop =[]\n",
        "with open(\"/content/polish.stopwords.txt\", \"r\") as a_file:\n",
        "  for line in a_file:\n",
        "    stopword = line.strip()\n",
        "    stop.append(stopword)"
      ],
      "metadata": {
        "id": "4fbixvP-_m_n"
      },
      "execution_count": 125,
      "outputs": []
    },
    {
      "cell_type": "code",
      "source": [
        "train_df[\"tweet\"] = train_df[\"tweet\"].str.lower()\n",
        "train_df['tweet_without_stopwords'] = train_df['tweet'].apply(lambda x: ' '.join([word for word in x.split() if word not in (stop)]))"
      ],
      "metadata": {
        "id": "_jAHaLLIQkmH"
      },
      "execution_count": 126,
      "outputs": []
    },
    {
      "cell_type": "code",
      "source": [
        "train_df['clean_tweet']=''"
      ],
      "metadata": {
        "id": "6IJntNJs_qML"
      },
      "execution_count": 127,
      "outputs": []
    },
    {
      "cell_type": "code",
      "source": [
        "#Removing link\n",
        "train_df['clean_tweet'] = train_df['tweet_without_stopwords'].str.replace('https?://\\S+|www\\.\\S+', '')"
      ],
      "metadata": {
        "id": "mG2HL_Zy_zxU"
      },
      "execution_count": 128,
      "outputs": []
    },
    {
      "cell_type": "code",
      "source": [
        "#Removing mails and tagged people\n",
        "train_df['clean_tweet'] = train_df['clean_tweet'].str.replace('\\S*@\\S*\\s?', '')"
      ],
      "metadata": {
        "id": "pbU35-M5ATDW"
      },
      "execution_count": 129,
      "outputs": []
    },
    {
      "cell_type": "code",
      "source": [
        "#Removing punctuation\n",
        "train_df['clean_tweet'] = train_df['clean_tweet'].str.replace('[^\\w\\s]', '')"
      ],
      "metadata": {
        "id": "f1FRreMzAcuv"
      },
      "execution_count": 130,
      "outputs": []
    },
    {
      "cell_type": "code",
      "source": [
        "#Removing numericals\n",
        "train_df['clean_tweet'] = train_df['clean_tweet'].str.replace('[0-9]+', '')"
      ],
      "metadata": {
        "id": "L_6UtHPkAer_"
      },
      "execution_count": 131,
      "outputs": []
    },
    {
      "cell_type": "code",
      "source": [
        "#Remove repeating words\n",
        "train_df['clean_tweet'] = train_df['clean_tweet'].str.replace('(.)1+', r'1')"
      ],
      "metadata": {
        "id": "50b1D_ppB6Wt"
      },
      "execution_count": 132,
      "outputs": []
    },
    {
      "cell_type": "code",
      "source": [
        "train_df=train_df[['clean_tweet','tag']]\n",
        "train_df.head()"
      ],
      "metadata": {
        "colab": {
          "base_uri": "https://localhost:8080/",
          "height": 206
        },
        "id": "hjfWYh2DC2BC",
        "outputId": "5d533df4-2d2f-4aa3-f77a-6714b3def170"
      },
      "execution_count": 133,
      "outputs": [
        {
          "output_type": "execute_result",
          "data": {
            "text/html": [
              "\n",
              "  <div id=\"df-0cade37c-cdd3-4d73-8527-6aae935dac0f\">\n",
              "    <div class=\"colab-df-container\">\n",
              "      <div>\n",
              "<style scoped>\n",
              "    .dataframe tbody tr th:only-of-type {\n",
              "        vertical-align: middle;\n",
              "    }\n",
              "\n",
              "    .dataframe tbody tr th {\n",
              "        vertical-align: top;\n",
              "    }\n",
              "\n",
              "    .dataframe thead th {\n",
              "        text-align: right;\n",
              "    }\n",
              "</style>\n",
              "<table border=\"1\" class=\"dataframe\">\n",
              "  <thead>\n",
              "    <tr style=\"text-align: right;\">\n",
              "      <th></th>\n",
              "      <th>clean_tweet</th>\n",
              "      <th>tag</th>\n",
              "    </tr>\n",
              "  </thead>\n",
              "  <tbody>\n",
              "    <tr>\n",
              "      <th>0</th>\n",
              "      <td>faworytem tytułu cracovia zobaczymy typ sprawdzi</td>\n",
              "      <td>0</td>\n",
              "    </tr>\n",
              "    <tr>\n",
              "      <th>1</th>\n",
              "      <td>brawo daria kibic dobre złe</td>\n",
              "      <td>0</td>\n",
              "    </tr>\n",
              "    <tr>\n",
              "      <th>2</th>\n",
              "      <td>super polski premier składa kwiaty grobach kol...</td>\n",
              "      <td>0</td>\n",
              "    </tr>\n",
              "    <tr>\n",
              "      <th>3</th>\n",
              "      <td>musi innej drogi mamy</td>\n",
              "      <td>0</td>\n",
              "    </tr>\n",
              "    <tr>\n",
              "      <th>4</th>\n",
              "      <td>odrzut natychmiastowy kwaśna mina problem</td>\n",
              "      <td>0</td>\n",
              "    </tr>\n",
              "  </tbody>\n",
              "</table>\n",
              "</div>\n",
              "      <button class=\"colab-df-convert\" onclick=\"convertToInteractive('df-0cade37c-cdd3-4d73-8527-6aae935dac0f')\"\n",
              "              title=\"Convert this dataframe to an interactive table.\"\n",
              "              style=\"display:none;\">\n",
              "        \n",
              "  <svg xmlns=\"http://www.w3.org/2000/svg\" height=\"24px\"viewBox=\"0 0 24 24\"\n",
              "       width=\"24px\">\n",
              "    <path d=\"M0 0h24v24H0V0z\" fill=\"none\"/>\n",
              "    <path d=\"M18.56 5.44l.94 2.06.94-2.06 2.06-.94-2.06-.94-.94-2.06-.94 2.06-2.06.94zm-11 1L8.5 8.5l.94-2.06 2.06-.94-2.06-.94L8.5 2.5l-.94 2.06-2.06.94zm10 10l.94 2.06.94-2.06 2.06-.94-2.06-.94-.94-2.06-.94 2.06-2.06.94z\"/><path d=\"M17.41 7.96l-1.37-1.37c-.4-.4-.92-.59-1.43-.59-.52 0-1.04.2-1.43.59L10.3 9.45l-7.72 7.72c-.78.78-.78 2.05 0 2.83L4 21.41c.39.39.9.59 1.41.59.51 0 1.02-.2 1.41-.59l7.78-7.78 2.81-2.81c.8-.78.8-2.07 0-2.86zM5.41 20L4 18.59l7.72-7.72 1.47 1.35L5.41 20z\"/>\n",
              "  </svg>\n",
              "      </button>\n",
              "      \n",
              "  <style>\n",
              "    .colab-df-container {\n",
              "      display:flex;\n",
              "      flex-wrap:wrap;\n",
              "      gap: 12px;\n",
              "    }\n",
              "\n",
              "    .colab-df-convert {\n",
              "      background-color: #E8F0FE;\n",
              "      border: none;\n",
              "      border-radius: 50%;\n",
              "      cursor: pointer;\n",
              "      display: none;\n",
              "      fill: #1967D2;\n",
              "      height: 32px;\n",
              "      padding: 0 0 0 0;\n",
              "      width: 32px;\n",
              "    }\n",
              "\n",
              "    .colab-df-convert:hover {\n",
              "      background-color: #E2EBFA;\n",
              "      box-shadow: 0px 1px 2px rgba(60, 64, 67, 0.3), 0px 1px 3px 1px rgba(60, 64, 67, 0.15);\n",
              "      fill: #174EA6;\n",
              "    }\n",
              "\n",
              "    [theme=dark] .colab-df-convert {\n",
              "      background-color: #3B4455;\n",
              "      fill: #D2E3FC;\n",
              "    }\n",
              "\n",
              "    [theme=dark] .colab-df-convert:hover {\n",
              "      background-color: #434B5C;\n",
              "      box-shadow: 0px 1px 3px 1px rgba(0, 0, 0, 0.15);\n",
              "      filter: drop-shadow(0px 1px 2px rgba(0, 0, 0, 0.3));\n",
              "      fill: #FFFFFF;\n",
              "    }\n",
              "  </style>\n",
              "\n",
              "      <script>\n",
              "        const buttonEl =\n",
              "          document.querySelector('#df-0cade37c-cdd3-4d73-8527-6aae935dac0f button.colab-df-convert');\n",
              "        buttonEl.style.display =\n",
              "          google.colab.kernel.accessAllowed ? 'block' : 'none';\n",
              "\n",
              "        async function convertToInteractive(key) {\n",
              "          const element = document.querySelector('#df-0cade37c-cdd3-4d73-8527-6aae935dac0f');\n",
              "          const dataTable =\n",
              "            await google.colab.kernel.invokeFunction('convertToInteractive',\n",
              "                                                     [key], {});\n",
              "          if (!dataTable) return;\n",
              "\n",
              "          const docLinkHtml = 'Like what you see? Visit the ' +\n",
              "            '<a target=\"_blank\" href=https://colab.research.google.com/notebooks/data_table.ipynb>data table notebook</a>'\n",
              "            + ' to learn more about interactive tables.';\n",
              "          element.innerHTML = '';\n",
              "          dataTable['output_type'] = 'display_data';\n",
              "          await google.colab.output.renderOutput(dataTable, element);\n",
              "          const docLink = document.createElement('div');\n",
              "          docLink.innerHTML = docLinkHtml;\n",
              "          element.appendChild(docLink);\n",
              "        }\n",
              "      </script>\n",
              "    </div>\n",
              "  </div>\n",
              "  "
            ],
            "text/plain": [
              "                                         clean_tweet tag\n",
              "0   faworytem tytułu cracovia zobaczymy typ sprawdzi   0\n",
              "1                        brawo daria kibic dobre złe   0\n",
              "2  super polski premier składa kwiaty grobach kol...   0\n",
              "3                              musi innej drogi mamy   0\n",
              "4          odrzut natychmiastowy kwaśna mina problem   0"
            ]
          },
          "metadata": {},
          "execution_count": 133
        }
      ]
    },
    {
      "cell_type": "code",
      "source": [
        "X = train_df['clean_tweet']\n",
        "Y = train_df['tag']"
      ],
      "metadata": {
        "id": "8oxXNSPjeh1q"
      },
      "execution_count": 134,
      "outputs": []
    },
    {
      "cell_type": "code",
      "source": [
        "Y = np.array(Y)\n",
        "Y = to_categorical(Y, 2, dtype=\"float32\")"
      ],
      "metadata": {
        "id": "9d6z6WuPGdLa"
      },
      "execution_count": 135,
      "outputs": []
    },
    {
      "cell_type": "code",
      "source": [
        "max_words = 5000\n",
        "max_len = 200\n",
        "tokenizer = Tokenizer(num_words=max_words)\n",
        "tokenizer.fit_on_texts(X)\n",
        "sequences = tokenizer.texts_to_sequences(X)\n",
        "tweets = pad_sequences(sequences, maxlen=max_len)"
      ],
      "metadata": {
        "id": "4OIJQR1PI-Aa"
      },
      "execution_count": 136,
      "outputs": []
    },
    {
      "cell_type": "code",
      "source": [
        "from sklearn.model_selection import train_test_split\n",
        "X_train, X_test, y_train, y_test = train_test_split(tweets,Y, random_state=0)"
      ],
      "metadata": {
        "id": "2AqnUiepH8L4"
      },
      "execution_count": 137,
      "outputs": []
    },
    {
      "cell_type": "markdown",
      "source": [
        "#### **LSTM**"
      ],
      "metadata": {
        "id": "mOI3ROuuhXX7"
      }
    },
    {
      "cell_type": "code",
      "source": [
        "model1 = Sequential()\n",
        "model1.add(layers.Embedding(max_words, 20))\n",
        "model1.add(layers.LSTM(15,dropout=0.5))\n",
        "model1.add(layers.Dense(2,activation='softmax'))\n",
        "model1.compile(optimizer='rmsprop',loss='binary_crossentropy', metrics=['accuracy'])\n",
        "history = model1.fit(X_train, y_train, epochs=20,validation_data=(X_test, y_test),verbose=0)"
      ],
      "metadata": {
        "id": "tUYuAoUt0iZi"
      },
      "execution_count": null,
      "outputs": []
    },
    {
      "cell_type": "markdown",
      "source": [
        "####  **1D ConvNets**"
      ],
      "metadata": {
        "id": "YrZf4jrma587"
      }
    },
    {
      "cell_type": "code",
      "source": [
        "model2=Sequential()\n",
        "model2.add(layers.Embedding(max_words, 40, input_length=max_len))\n",
        "model2.add(layers.Conv1D(20, 6, activation='relu',kernel_regularizer=regularizers.l1_l2(l1=2e-3, l2=2e-3),bias_regularizer=regularizers.l2(2e-3)))\n",
        "model2.add(layers.MaxPooling1D(5))\n",
        "model2.add(layers.Conv1D(20, 6, activation='relu',kernel_regularizer=regularizers.l1_l2(l1=2e-3, l2=2e-3),bias_regularizer=regularizers.l2(2e-3)))\n",
        "model2.add(layers.GlobalMaxPooling1D())\n",
        "model2.add(layers.Dense(2,activation='softmax'))\n",
        "model2.compile(optimizer='rmsprop',loss='categorical_crossentropy',metrics=['acc'])\n",
        "history2 = model2.fit(X_train, y_train, epochs=20,validation_data=(X_test, y_test),verbose=0)"
      ],
      "metadata": {
        "id": "hnkYSmElbMl6"
      },
      "execution_count": 139,
      "outputs": []
    },
    {
      "cell_type": "markdown",
      "source": [
        "### Evaluation and comparison of models"
      ],
      "metadata": {
        "id": "Y2zAsT9ThNDN"
      }
    },
    {
      "cell_type": "code",
      "source": [
        "%%capture\n",
        "!wget http://2019.poleval.pl/task6/task6_test.zip -O  task_6-1.zip\n",
        "!unzip task_6-1\n",
        "%rm task_6-1.zip"
      ],
      "metadata": {
        "id": "ECYxyVf-3GqV"
      },
      "execution_count": 140,
      "outputs": []
    },
    {
      "cell_type": "code",
      "source": [
        "tags=[]\n",
        "tweets=[]\n",
        "with open('/content/Task6/task 01/test_set_clean_only_tags.txt','r') as f:        \n",
        "     for row in f.readlines():\n",
        "       tags.append(row.rstrip(\"\\n\"))\n",
        "with open('/content/Task6/task 01/test_set_clean_only_text.txt','r') as f:        \n",
        "     for row in f.readlines():\n",
        "       tweets.append(row.rstrip(\"\\n\"))\n",
        "test_df = pd.DataFrame({'tweet':tweets, 'tag':tags})\n",
        "X = test_df['tweet']\n",
        "y = test_df['tag']\n",
        "max_words = 5000\n",
        "max_len = 200\n",
        "tokenizer = Tokenizer(num_words=max_words)\n",
        "tokenizer.fit_on_texts(X)\n",
        "sequences = tokenizer.texts_to_sequences(X)\n",
        "test = pad_sequences(sequences, maxlen=max_len)\n",
        "Y = np.array(y)\n",
        "Y = to_categorical(Y, 2, dtype=\"float32\")"
      ],
      "metadata": {
        "id": "PAbN-PQ13YNC"
      },
      "execution_count": 141,
      "outputs": []
    },
    {
      "cell_type": "code",
      "source": [
        "#LSTM evaluation\n",
        "model1.evaluate(test,Y)"
      ],
      "metadata": {
        "colab": {
          "base_uri": "https://localhost:8080/"
        },
        "id": "JWBT5zs53vHn",
        "outputId": "208f7a53-7d43-47ff-ae0f-2dfa506cdbdf"
      },
      "execution_count": 142,
      "outputs": [
        {
          "output_type": "stream",
          "name": "stdout",
          "text": [
            "32/32 [==============================] - 1s 16ms/step - loss: 0.6262 - accuracy: 0.8400\n"
          ]
        },
        {
          "output_type": "execute_result",
          "data": {
            "text/plain": [
              "[0.6262050271034241, 0.8399999737739563]"
            ]
          },
          "metadata": {},
          "execution_count": 142
        }
      ]
    },
    {
      "cell_type": "code",
      "source": [
        "#1D ConvNets evaluation\n",
        "model2.evaluate(test,Y)"
      ],
      "metadata": {
        "colab": {
          "base_uri": "https://localhost:8080/"
        },
        "id": "1qodpXgLE-mI",
        "outputId": "e45e591d-352b-4b3e-d88b-186913a77ca8"
      },
      "execution_count": 143,
      "outputs": [
        {
          "output_type": "stream",
          "name": "stdout",
          "text": [
            "32/32 [==============================] - 0s 6ms/step - loss: 0.4191 - acc: 0.8660\n"
          ]
        },
        {
          "output_type": "execute_result",
          "data": {
            "text/plain": [
              "[0.4191458225250244, 0.8659999966621399]"
            ]
          },
          "metadata": {},
          "execution_count": 143
        }
      ]
    },
    {
      "cell_type": "code",
      "source": [
        "%rm /content/training_set_clean_only_tags.txt\n",
        "%rm /content/training_set_clean_only_text.txt"
      ],
      "metadata": {
        "id": "kfk7YZc7fFWh"
      },
      "execution_count": 144,
      "outputs": []
    },
    {
      "cell_type": "markdown",
      "source": [
        "##Task 6-2: Type of harmfulness"
      ],
      "metadata": {
        "id": "9qlINbfVg4B1"
      }
    },
    {
      "cell_type": "markdown",
      "source": [
        "###Getting data and building models"
      ],
      "metadata": {
        "id": "m-MSvFHsg5l1"
      }
    },
    {
      "cell_type": "code",
      "source": [
        "%%capture\n",
        "!wget http://2019.poleval.pl/task6/task_6-2.zip -O  task_6-2.zip\n",
        "!unzip task_6-2\n",
        "%rm task_6-2.zip"
      ],
      "metadata": {
        "id": "qQ7OeKIxeWJM"
      },
      "execution_count": 145,
      "outputs": []
    },
    {
      "cell_type": "code",
      "source": [
        "tags=[]\n",
        "tweets=[]\n",
        "with open('/content/training_set_clean_only_tags.txt','r') as f:        \n",
        "     for row in f.readlines():\n",
        "       tags.append(row.rstrip(\"\\n\"))\n",
        "with open('/content/training_set_clean_only_text.txt','r') as f:        \n",
        "     for row in f.readlines():\n",
        "       tweets.append(row.rstrip(\"\\n\"))\n",
        "train_df = pd.DataFrame({'tweet':tweets, 'tag':tags})"
      ],
      "metadata": {
        "id": "2ZJ4ge6Of4RC"
      },
      "execution_count": 146,
      "outputs": []
    },
    {
      "cell_type": "code",
      "source": [
        "stop =[]\n",
        "with open(\"/content/polish.stopwords.txt\", \"r\") as a_file:\n",
        "  for line in a_file:\n",
        "    stopword = line.strip()\n",
        "    stop.append(stopword)"
      ],
      "metadata": {
        "id": "MJT869bnf9Bj"
      },
      "execution_count": 147,
      "outputs": []
    },
    {
      "cell_type": "code",
      "source": [
        "train_df[\"tweet\"] = train_df[\"tweet\"].str.lower()\n",
        "train_df['tweet_without_stopwords'] = train_df['tweet'].apply(lambda x: ' '.join([word for word in x.split() if word not in (stop)]))"
      ],
      "metadata": {
        "id": "If2jhQpjf_wC"
      },
      "execution_count": 148,
      "outputs": []
    },
    {
      "cell_type": "code",
      "source": [
        "train_df['clean_tweet']=''"
      ],
      "metadata": {
        "id": "WMS-s_eegEph"
      },
      "execution_count": 149,
      "outputs": []
    },
    {
      "cell_type": "code",
      "source": [
        "#Removing link\n",
        "train_df['clean_tweet'] = train_df['tweet_without_stopwords'].str.replace(r'https?://\\S+|www\\.\\S+', '')"
      ],
      "metadata": {
        "id": "n4q2pEZZgLcE"
      },
      "execution_count": 150,
      "outputs": []
    },
    {
      "cell_type": "code",
      "source": [
        "#Removing mails and tagged people\n",
        "train_df['clean_tweet'] = train_df['clean_tweet'].str.replace('\\S*@\\S*\\s?', '')"
      ],
      "metadata": {
        "id": "LxR-lCuIgOTT"
      },
      "execution_count": 151,
      "outputs": []
    },
    {
      "cell_type": "code",
      "source": [
        "#Removing punctuation\n",
        "train_df['clean_tweet'] = train_df['clean_tweet'].str.replace('[^\\w\\s]', '')"
      ],
      "metadata": {
        "id": "A5h-44-HgRKy"
      },
      "execution_count": 152,
      "outputs": []
    },
    {
      "cell_type": "code",
      "source": [
        "#Removing numericals\n",
        "train_df['clean_tweet'] = train_df['clean_tweet'].str.replace('[0-9]+', '')"
      ],
      "metadata": {
        "id": "1N58eUBNgTk6"
      },
      "execution_count": 153,
      "outputs": []
    },
    {
      "cell_type": "code",
      "source": [
        "#Remove repeating words\n",
        "train_df['clean_tweet'] = train_df['clean_tweet'].str.replace('(.)1+', '1')"
      ],
      "metadata": {
        "id": "T1XWkSpIgcEB"
      },
      "execution_count": 154,
      "outputs": []
    },
    {
      "cell_type": "code",
      "source": [
        "train_df=train_df[['clean_tweet','tag']]\n",
        "train_df.head()"
      ],
      "metadata": {
        "colab": {
          "base_uri": "https://localhost:8080/",
          "height": 206
        },
        "id": "Vffieom1gfmt",
        "outputId": "4db8b9a1-78f6-44d8-d220-3309404256fe"
      },
      "execution_count": 155,
      "outputs": [
        {
          "output_type": "execute_result",
          "data": {
            "text/html": [
              "\n",
              "  <div id=\"df-f7bfc09f-d966-488e-80f2-90182ec7a302\">\n",
              "    <div class=\"colab-df-container\">\n",
              "      <div>\n",
              "<style scoped>\n",
              "    .dataframe tbody tr th:only-of-type {\n",
              "        vertical-align: middle;\n",
              "    }\n",
              "\n",
              "    .dataframe tbody tr th {\n",
              "        vertical-align: top;\n",
              "    }\n",
              "\n",
              "    .dataframe thead th {\n",
              "        text-align: right;\n",
              "    }\n",
              "</style>\n",
              "<table border=\"1\" class=\"dataframe\">\n",
              "  <thead>\n",
              "    <tr style=\"text-align: right;\">\n",
              "      <th></th>\n",
              "      <th>clean_tweet</th>\n",
              "      <th>tag</th>\n",
              "    </tr>\n",
              "  </thead>\n",
              "  <tbody>\n",
              "    <tr>\n",
              "      <th>0</th>\n",
              "      <td>faworytem tytułu cracovia zobaczymy typ sprawdzi</td>\n",
              "      <td>0</td>\n",
              "    </tr>\n",
              "    <tr>\n",
              "      <th>1</th>\n",
              "      <td>brawo daria kibic dobre złe</td>\n",
              "      <td>0</td>\n",
              "    </tr>\n",
              "    <tr>\n",
              "      <th>2</th>\n",
              "      <td>super polski premier składa kwiaty grobach kol...</td>\n",
              "      <td>0</td>\n",
              "    </tr>\n",
              "    <tr>\n",
              "      <th>3</th>\n",
              "      <td>musi innej drogi mamy</td>\n",
              "      <td>0</td>\n",
              "    </tr>\n",
              "    <tr>\n",
              "      <th>4</th>\n",
              "      <td>odrzut natychmiastowy kwaśna mina problem</td>\n",
              "      <td>0</td>\n",
              "    </tr>\n",
              "  </tbody>\n",
              "</table>\n",
              "</div>\n",
              "      <button class=\"colab-df-convert\" onclick=\"convertToInteractive('df-f7bfc09f-d966-488e-80f2-90182ec7a302')\"\n",
              "              title=\"Convert this dataframe to an interactive table.\"\n",
              "              style=\"display:none;\">\n",
              "        \n",
              "  <svg xmlns=\"http://www.w3.org/2000/svg\" height=\"24px\"viewBox=\"0 0 24 24\"\n",
              "       width=\"24px\">\n",
              "    <path d=\"M0 0h24v24H0V0z\" fill=\"none\"/>\n",
              "    <path d=\"M18.56 5.44l.94 2.06.94-2.06 2.06-.94-2.06-.94-.94-2.06-.94 2.06-2.06.94zm-11 1L8.5 8.5l.94-2.06 2.06-.94-2.06-.94L8.5 2.5l-.94 2.06-2.06.94zm10 10l.94 2.06.94-2.06 2.06-.94-2.06-.94-.94-2.06-.94 2.06-2.06.94z\"/><path d=\"M17.41 7.96l-1.37-1.37c-.4-.4-.92-.59-1.43-.59-.52 0-1.04.2-1.43.59L10.3 9.45l-7.72 7.72c-.78.78-.78 2.05 0 2.83L4 21.41c.39.39.9.59 1.41.59.51 0 1.02-.2 1.41-.59l7.78-7.78 2.81-2.81c.8-.78.8-2.07 0-2.86zM5.41 20L4 18.59l7.72-7.72 1.47 1.35L5.41 20z\"/>\n",
              "  </svg>\n",
              "      </button>\n",
              "      \n",
              "  <style>\n",
              "    .colab-df-container {\n",
              "      display:flex;\n",
              "      flex-wrap:wrap;\n",
              "      gap: 12px;\n",
              "    }\n",
              "\n",
              "    .colab-df-convert {\n",
              "      background-color: #E8F0FE;\n",
              "      border: none;\n",
              "      border-radius: 50%;\n",
              "      cursor: pointer;\n",
              "      display: none;\n",
              "      fill: #1967D2;\n",
              "      height: 32px;\n",
              "      padding: 0 0 0 0;\n",
              "      width: 32px;\n",
              "    }\n",
              "\n",
              "    .colab-df-convert:hover {\n",
              "      background-color: #E2EBFA;\n",
              "      box-shadow: 0px 1px 2px rgba(60, 64, 67, 0.3), 0px 1px 3px 1px rgba(60, 64, 67, 0.15);\n",
              "      fill: #174EA6;\n",
              "    }\n",
              "\n",
              "    [theme=dark] .colab-df-convert {\n",
              "      background-color: #3B4455;\n",
              "      fill: #D2E3FC;\n",
              "    }\n",
              "\n",
              "    [theme=dark] .colab-df-convert:hover {\n",
              "      background-color: #434B5C;\n",
              "      box-shadow: 0px 1px 3px 1px rgba(0, 0, 0, 0.15);\n",
              "      filter: drop-shadow(0px 1px 2px rgba(0, 0, 0, 0.3));\n",
              "      fill: #FFFFFF;\n",
              "    }\n",
              "  </style>\n",
              "\n",
              "      <script>\n",
              "        const buttonEl =\n",
              "          document.querySelector('#df-f7bfc09f-d966-488e-80f2-90182ec7a302 button.colab-df-convert');\n",
              "        buttonEl.style.display =\n",
              "          google.colab.kernel.accessAllowed ? 'block' : 'none';\n",
              "\n",
              "        async function convertToInteractive(key) {\n",
              "          const element = document.querySelector('#df-f7bfc09f-d966-488e-80f2-90182ec7a302');\n",
              "          const dataTable =\n",
              "            await google.colab.kernel.invokeFunction('convertToInteractive',\n",
              "                                                     [key], {});\n",
              "          if (!dataTable) return;\n",
              "\n",
              "          const docLinkHtml = 'Like what you see? Visit the ' +\n",
              "            '<a target=\"_blank\" href=https://colab.research.google.com/notebooks/data_table.ipynb>data table notebook</a>'\n",
              "            + ' to learn more about interactive tables.';\n",
              "          element.innerHTML = '';\n",
              "          dataTable['output_type'] = 'display_data';\n",
              "          await google.colab.output.renderOutput(dataTable, element);\n",
              "          const docLink = document.createElement('div');\n",
              "          docLink.innerHTML = docLinkHtml;\n",
              "          element.appendChild(docLink);\n",
              "        }\n",
              "      </script>\n",
              "    </div>\n",
              "  </div>\n",
              "  "
            ],
            "text/plain": [
              "                                         clean_tweet tag\n",
              "0   faworytem tytułu cracovia zobaczymy typ sprawdzi   0\n",
              "1                        brawo daria kibic dobre złe   0\n",
              "2  super polski premier składa kwiaty grobach kol...   0\n",
              "3                              musi innej drogi mamy   0\n",
              "4          odrzut natychmiastowy kwaśna mina problem   0"
            ]
          },
          "metadata": {},
          "execution_count": 155
        }
      ]
    },
    {
      "cell_type": "code",
      "source": [
        "X = train_df['clean_tweet']\n",
        "Y = train_df['tag']"
      ],
      "metadata": {
        "id": "LPI17nhdgiaK"
      },
      "execution_count": 156,
      "outputs": []
    },
    {
      "cell_type": "code",
      "source": [
        "Y = np.array(Y)\n",
        "Y = to_categorical(Y, 3, dtype=\"float32\")"
      ],
      "metadata": {
        "id": "JXRVqWuBglCJ"
      },
      "execution_count": 157,
      "outputs": []
    },
    {
      "cell_type": "code",
      "source": [
        "max_words = 5000\n",
        "max_len = 200\n",
        "tokenizer = Tokenizer(num_words=max_words)\n",
        "tokenizer.fit_on_texts(X)\n",
        "sequences = tokenizer.texts_to_sequences(X)\n",
        "tweets = pad_sequences(sequences, maxlen=max_len)"
      ],
      "metadata": {
        "id": "oeo0REDRgouR"
      },
      "execution_count": 158,
      "outputs": []
    },
    {
      "cell_type": "code",
      "source": [
        "from sklearn.model_selection import train_test_split\n",
        "X_train, X_test, y_train, y_test = train_test_split(tweets,Y, random_state=0)"
      ],
      "metadata": {
        "id": "ibWLCwFlgru8"
      },
      "execution_count": 159,
      "outputs": []
    },
    {
      "cell_type": "markdown",
      "source": [
        "### **LSTM**"
      ],
      "metadata": {
        "id": "iunnZgahgu3y"
      }
    },
    {
      "cell_type": "code",
      "source": [
        "model3 = Sequential()\n",
        "model3.add(layers.Embedding(max_words, 20))\n",
        "model3.add(layers.LSTM(15,dropout=0.5))\n",
        "model3.add(layers.Dense(3,activation='softmax'))\n",
        "model3.compile(optimizer='rmsprop',loss='binary_crossentropy', metrics=['accuracy'])\n",
        "history3 = model3.fit(X_train, y_train, epochs=20,validation_data=(X_test, y_test),verbose=0)"
      ],
      "metadata": {
        "id": "4ZWCU_Cog3Zb"
      },
      "execution_count": 160,
      "outputs": []
    },
    {
      "cell_type": "markdown",
      "source": [
        "### **1D ConvNets**"
      ],
      "metadata": {
        "id": "F-HQn9UUihu2"
      }
    },
    {
      "cell_type": "code",
      "source": [
        "model4=Sequential()\n",
        "model4.add(layers.Embedding(max_words, 40, input_length=max_len))\n",
        "model4.add(layers.Conv1D(20, 6, activation='relu',kernel_regularizer=regularizers.l1_l2(l1=2e-3, l2=2e-3),bias_regularizer=regularizers.l2(2e-3)))\n",
        "model4.add(layers.MaxPooling1D(5))\n",
        "model4.add(layers.Conv1D(20, 6, activation='relu',kernel_regularizer=regularizers.l1_l2(l1=2e-3, l2=2e-3),bias_regularizer=regularizers.l2(2e-3)))\n",
        "model4.add(layers.GlobalMaxPooling1D())\n",
        "model4.add(layers.Dense(3,activation='softmax'))\n",
        "model4.compile(optimizer='rmsprop',loss='categorical_crossentropy',metrics=['acc'])\n",
        "history4 = model4.fit(X_train, y_train, epochs=20,validation_data=(X_test, y_test),verbose=0)"
      ],
      "metadata": {
        "id": "DDoIoSLkiuPr"
      },
      "execution_count": 161,
      "outputs": []
    },
    {
      "cell_type": "markdown",
      "source": [
        "### Evaluation and comparison of models"
      ],
      "metadata": {
        "id": "XaGKoGo_hR7-"
      }
    },
    {
      "cell_type": "code",
      "source": [
        "tags=[]\n",
        "tweets=[]\n",
        "with open('/content/Task6/task 02/test_set_only_tags.txt','r') as f:        \n",
        "     for row in f.readlines():\n",
        "       tags.append(row.rstrip(\"\\n\"))\n",
        "with open('/content/Task6/task 02/test_set_only_text.txt','r') as f:        \n",
        "     for row in f.readlines():\n",
        "       tweets.append(row.rstrip(\"\\n\"))\n",
        "print(len(tags),len(tweets))\n",
        "test_df = pd.DataFrame({'tweet':tweets, 'tag':tags})\n",
        "X2 = test_df['tweet']\n",
        "y2 = test_df['tag']\n",
        "max_words = 5000\n",
        "max_len = 200\n",
        "tokenizer = Tokenizer(num_words=max_words)\n",
        "tokenizer.fit_on_texts(X2)\n",
        "sequences = tokenizer.texts_to_sequences(X2)\n",
        "test2 = pad_sequences(sequences, maxlen=max_len)\n",
        "Y2 = np.array(y2)\n",
        "Y2 = to_categorical(Y2, 3, dtype=\"float32\")"
      ],
      "metadata": {
        "colab": {
          "base_uri": "https://localhost:8080/"
        },
        "id": "pdHmOUyYi_gT",
        "outputId": "14fddd2e-44ca-4600-bc5f-60bcd6652e69"
      },
      "execution_count": 162,
      "outputs": [
        {
          "output_type": "stream",
          "name": "stdout",
          "text": [
            "1000 1000\n"
          ]
        }
      ]
    },
    {
      "cell_type": "code",
      "source": [
        "#LSTM evaluation\n",
        "model3.evaluate(test2,Y2)"
      ],
      "metadata": {
        "colab": {
          "base_uri": "https://localhost:8080/"
        },
        "id": "pBI_Ih6fjJEK",
        "outputId": "f6701ab3-a536-4e06-9dad-13b2a4bd6694"
      },
      "execution_count": 163,
      "outputs": [
        {
          "output_type": "stream",
          "name": "stdout",
          "text": [
            "32/32 [==============================] - 0s 15ms/step - loss: 0.4342 - accuracy: 0.8400\n"
          ]
        },
        {
          "output_type": "execute_result",
          "data": {
            "text/plain": [
              "[0.4341752827167511, 0.8399999737739563]"
            ]
          },
          "metadata": {},
          "execution_count": 163
        }
      ]
    },
    {
      "cell_type": "code",
      "source": [
        "#1D ConvNets evaluation\n",
        "model4.evaluate(test2,Y2)"
      ],
      "metadata": {
        "colab": {
          "base_uri": "https://localhost:8080/"
        },
        "id": "NZB1m91kjLti",
        "outputId": "d898bbb5-c4e2-4a97-8a4c-ba4987a61189"
      },
      "execution_count": 164,
      "outputs": [
        {
          "output_type": "stream",
          "name": "stdout",
          "text": [
            "32/32 [==============================] - 0s 6ms/step - loss: 0.4864 - acc: 0.8660\n"
          ]
        },
        {
          "output_type": "execute_result",
          "data": {
            "text/plain": [
              "[0.48635953664779663, 0.8659999966621399]"
            ]
          },
          "metadata": {},
          "execution_count": 164
        }
      ]
    },
    {
      "cell_type": "code",
      "source": [
        "%rm -rf /content/Task6\n",
        "%rm /content/polish.stopwords.txt\n",
        "%rm /content/training_set_clean_only_tags.txt\n",
        "%rm /content/training_set_clean_only_text.txt"
      ],
      "metadata": {
        "id": "NfDV4l-t7BFl"
      },
      "execution_count": 165,
      "outputs": []
    }
  ]
}